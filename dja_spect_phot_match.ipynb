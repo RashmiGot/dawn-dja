{
 "cells": [
  {
   "cell_type": "markdown",
   "id": "2b681fd3-b9e9-4bf0-aaa4-93d597ebd545",
   "metadata": {},
   "source": [
    "#### import libraries"
   ]
  },
  {
   "cell_type": "code",
   "execution_count": 1,
   "id": "3c283e2f-a9d3-4d2a-9ea8-e91894f9b54a",
   "metadata": {},
   "outputs": [
    {
     "name": "stdout",
     "output_type": "stream",
     "text": [
      "Set ROOT_PATH=/Users/rashmig/Desktop/DAWN/DJA/code/dja_match_github\n"
     ]
    }
   ],
   "source": [
    "import numpy as np\n",
    "\n",
    "from astropy.table import Table\n",
    "\n",
    "from grizli.aws import db\n",
    "from grizli import utils\n",
    "import eazy.utils\n",
    "\n",
    "# import functions in dja_match.py file\n",
    "import dja_match as dm"
   ]
  },
  {
   "cell_type": "markdown",
   "id": "d9b56c32-ae86-4470-967a-5dc5b7a13840",
   "metadata": {},
   "source": [
    "#### download basic info of unmatched spectra from AWS database (from table 'nirspec_extractions')"
   ]
  },
  {
   "cell_type": "code",
   "execution_count": 2,
   "id": "6ae12f84-e3a6-420d-a892-a5cb8865c444",
   "metadata": {},
   "outputs": [],
   "source": [
    "ne_tab = dm.unmatched_spec_from_db()"
   ]
  },
  {
   "cell_type": "markdown",
   "id": "f621d114-d215-4cac-b159-6f132a4e206c",
   "metadata": {},
   "source": [
    "#### download basic info of photometric files from AWS database (from table 'grizli_photometry')"
   ]
  },
  {
   "cell_type": "code",
   "execution_count": 3,
   "id": "687611b8-3395-46ff-ab04-aa82f15b12da",
   "metadata": {},
   "outputs": [],
   "source": [
    "gr_tab = dm.grizli_phot_from_db()"
   ]
  },
  {
   "cell_type": "markdown",
   "id": "8da8dd2f-af80-4d37-822e-a43dc60b8bc7",
   "metadata": {},
   "source": [
    "#### match the spectra and photometry via [ra,dec]"
   ]
  },
  {
   "cell_type": "code",
   "execution_count": 4,
   "id": "57c25a58-6701-4591-b887-d298b30d464f",
   "metadata": {},
   "outputs": [],
   "source": [
    "# saves outfile matched catalogue to 'cats' folder\n",
    "\n",
    "matched_tab = dm.match_spec_phot_cats(photcat_concat=gr_tab,\n",
    "                                      spec_tab=ne_tab,\n",
    "                                      outfile_name='spec_phot_match_tab')"
   ]
  },
  {
   "cell_type": "markdown",
   "id": "7a03c1fc-2d7a-469b-9e1c-7957e4f9e9bf",
   "metadata": {},
   "source": [
    "#### read output matched table"
   ]
  },
  {
   "cell_type": "code",
   "execution_count": 5,
   "id": "38b215d9-2a6f-460a-873c-5488cb7412fb",
   "metadata": {},
   "outputs": [],
   "source": [
    "matched_tab_read = utils.read_catalog('cats/spec_phot_match_tab.fits')"
   ]
  },
  {
   "cell_type": "code",
   "execution_count": null,
   "id": "056b0703-8917-4acb-95f7-05a9861c8334",
   "metadata": {},
   "outputs": [],
   "source": []
  }
 ],
 "metadata": {
  "kernelspec": {
   "display_name": "Python 3 (ipykernel)",
   "language": "python",
   "name": "python3"
  },
  "language_info": {
   "codemirror_mode": {
    "name": "ipython",
    "version": 3
   },
   "file_extension": ".py",
   "mimetype": "text/x-python",
   "name": "python",
   "nbconvert_exporter": "python",
   "pygments_lexer": "ipython3",
   "version": "3.10.14"
  }
 },
 "nbformat": 4,
 "nbformat_minor": 5
}
